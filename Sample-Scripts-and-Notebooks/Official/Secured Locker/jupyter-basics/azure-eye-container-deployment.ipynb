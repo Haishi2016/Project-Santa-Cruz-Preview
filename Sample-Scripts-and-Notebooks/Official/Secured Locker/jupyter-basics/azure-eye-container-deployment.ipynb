{
 "cells": [
  {
   "cell_type": "markdown",
   "metadata": {},
   "source": [
    "Copyright (c) Microsoft Corporation. All rights reserved.\n",
    "\n",
    "Licensed under the MIT License."
   ]
  },
  {
   "cell_type": "markdown",
   "metadata": {},
   "source": [
    "##  Deploy Azure Eye Container with Secure AI model support to IoT edge device\n",
    "\n",
    "Prerequisites: Install the Azur Cli from https://docs.microsoft.com/en-us/cli/azure/install-azure-cli."
   ]
  },
  {
   "cell_type": "markdown",
   "metadata": {},
   "source": [
    "## 1: Specify parameters and login to Azure\n"
   ]
  },
  {
   "cell_type": "code",
   "execution_count": null,
   "metadata": {},
   "outputs": [],
   "source": [
    "\n",
    "# Enter the Azure subscription ID to provision your services\n",
    "subscription_id=\"\"\n",
    "\n",
    "# Enter the Azure IoT Hub name \n",
    "iot_hub_name=\"\"\n",
    "\n",
    "# Enter the IoT Edge device ID \n",
    "iot_device_id=\"\"\n",
    "\n",
    "# Enter the Azure Eye container image location (i.e. azureedgedevices.azurecr.io/securedazureeyemodule)\n",
    "container_image_location=\"\"\n",
    "\n",
    "# Enter the service principal client id\n",
    "azure_client_id=\"\"\n",
    "\n",
    "# Enter the service principal secret\n",
    "azure_client_secret=\"\"\n",
    "\n",
    "# Enter the service principal tenant id\n",
    "azure_tenent_id=\"\"\n",
    "\n",
    "# Enter the encrypted model name\n",
    "scz_model_name=\"\"\n",
    "\n",
    "# Enter the encrypted model version\n",
    "scz_model_version=\"\"\n",
    "\n",
    "# Enter the model management server URL \n",
    "scz_mm_server_url=\"\"\n",
    "\n",
    "# Enter the confidence threshold for training data capturing (i.e. 80)\n",
    "confidence_threshold=\"\"\n"
   ]
  },
  {
   "cell_type": "code",
   "execution_count": null,
   "metadata": {},
   "outputs": [],
   "source": [
    "!az login\n",
    "\n",
    "# Note: if \"az login\" redirects to https://localhost:8400, you can follow the workaround https://github.com/Azure/azure-cli/issues/10426#issuecomment-528308713 and see if you are unblocked after removing localhost from security policies."
   ]
  },
  {
   "cell_type": "code",
   "execution_count": null,
   "metadata": {},
   "outputs": [],
   "source": [
    "# Load the IoT extension for Azure CLI\n",
    "!az extension add --name azure-iot"
   ]
  },
  {
   "cell_type": "code",
   "execution_count": null,
   "metadata": {},
   "outputs": [],
   "source": [
    "!az account set --subscription $subscription_id"
   ]
  },
  {
   "source": [
    "## 2. Deploy Azure Eye container to Azure IoT Edge device\n",
    "Create a deployment.json file that contains the modules you want to deploy to the device and the routes.  Then push this file to the IoT Hub, which will then send it to the IoT Edge device.  The IoT Edge agent will then pull the Docker images and run them.\n"
   ],
   "cell_type": "markdown",
   "metadata": {}
  },
  {
   "cell_type": "code",
   "execution_count": null,
   "metadata": {},
   "outputs": [],
   "source": [
    "file = open('deployment.template.json')\n",
    "contents = file.read()\n",
    "contents = contents.replace('$CONTAINER_IMAGE_LOCATION', container_image_location)\n",
    "contents = contents.replace('$AZURE_CLIENT_ID', azure_client_id)\n",
    "contents = contents.replace('$AZURE_CLIENT_SECRET', azure_client_secret)\n",
    "contents = contents.replace('$AZURE_TENANT_ID', azure_tenent_id)\n",
    "contents = contents.replace('$CONFIDENCE_THRESHOLD', confidence_threshold)\n",
    "contents = contents.replace('$SCZ_MODEL_NAME', scz_model_name)\n",
    "contents = contents.replace('$SCZ_MODEL_VERSION', scz_model_version)\n",
    "contents = contents.replace('$SCZ_MM_SERVER_URL', scz_mm_server_url)\n",
    "with open('./deployment.json', 'wt', encoding='utf-8') as output_file:\n",
    "    output_file.write(contents)"
   ]
  },
  {
   "cell_type": "code",
   "execution_count": null,
   "metadata": {},
   "outputs": [],
   "source": [
    "# Push the deployment JSON to the IOT Hub\n",
    "!az iot edge set-modules --device-id $iot_device_id --hub-name $iot_hub_name --content deployment.json"
   ]
  },
  {
   "cell_type": "markdown",
   "metadata": {},
   "source": [
    "## Congratulations!\n",
    "The secured Eye module has been deployed to your IoT Edge device, and you can see the module details in Azure portal.  "
   ]
  },
  {
   "cell_type": "code",
   "execution_count": null,
   "metadata": {},
   "outputs": [],
   "source": []
  }
 ],
 "metadata": {
  "authors": [
   {
    "name": "baoxij"
   }
  ],
  "kernelspec": {
   "name": "Python 3.7.9 64-bit",
   "display_name": "Python 3.7.9 64-bit",
   "metadata": {
    "interpreter": {
     "hash": "04635d289a519a1410467dd0afb0db42f9184808881ca68b2eb5a687a20a5a94"
    }
   }
  },
  "language_info": {
   "codemirror_mode": {
    "name": "ipython",
    "version": 3
   },
   "file_extension": ".py",
   "mimetype": "text/x-python",
   "name": "python",
   "nbconvert_exporter": "python",
   "pygments_lexer": "ipython3",
   "version": "3.7.9-final"
  }
 },
 "nbformat": 4,
 "nbformat_minor": 2
}