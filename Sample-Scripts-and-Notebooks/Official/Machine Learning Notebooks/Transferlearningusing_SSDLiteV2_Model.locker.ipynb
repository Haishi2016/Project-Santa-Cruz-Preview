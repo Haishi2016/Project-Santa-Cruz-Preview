{
  "nbformat": 4,
  "nbformat_minor": 0,
  "metadata": {
    "kernelspec": {
      "name": "python3",
      "display_name": "Python 3.8.5 64-bit",
      "metadata": {
        "interpreter": {
          "hash": "916dbcbb3f70747c44a77c7bcd40155683ae19c65e1c03b4aa3499c5328201f1"
        }
      }
    },
    "language_info": {
      "name": "python",
      "version": "3.8.5-final",
      "mimetype": "text/x-python",
      "codemirror_mode": {
        "name": "ipython",
        "version": 3
      },
      "pygments_lexer": "ipython3",
      "nbconvert_exporter": "python",
      "file_extension": ".py"
    },
    "nteract": {
      "version": "nteract-front-end@1.0.0"
    },
    "kernel_info": {
      "name": "python3-azureml"
    },
    "colab": {
      "name": "Transferlearningusing_SSDLiteV2 Model.ipynb",
      "provenance": []
    }
  },
  "cells": [
    {
      "cell_type": "markdown",
      "metadata": {
        "nteract": {
          "transient": {
            "deleting": false
          }
        },
        "id": "uQQ5ihC-ycGn"
      },
      "source": [
        "Copyright (c) Microsoft Corporation. All rights reserved.\n",
        "Licensed under the MIT License.\n",
        "\n",
        "# Train your own Model and Deploy to Device\n",
        "\n",
        "**NOTE**\n",
        "* Warning: copying *.pb, *.bin, or, *.blob using the web interface can corrupt the files. If needed download and use Azure storage explorer or the CL.\n",
        "* Make sure to run each cell individually as some cells will require input parameters.\n",
        "\n",
        "This notebook shows how to create a Tensorflow object detection model, how to convert the model to the appropriate format for the Eye development\n",
        "kit, and how to deploy the model to your kit.\n",
        "\n",
        "This notebook takes a transfer learning approach, using a pre-trained Tensorflow Mobilenet model with custom dataset\n",
        "and SSDLite layers that we will train to detect bowls.\n",
        "We use the [Tensorflow object detection API](https://github.com/tensorflow/models/tree/master/research/object_detection).\n",
        "\n",
        "The trained model will be deployed to Azure Eye Devkit using Module Twin Update method."
      ]
    },
    {
      "cell_type": "code",
      "metadata": {
        "jupyter": {
          "source_hidden": false,
          "outputs_hidden": false
        },
        "nteract": {
          "transient": {
            "deleting": false
          }
        },
        "gather": {
          "logged": 1599082546638
        },
        "id": "Pkj1xCSAycG0"
      },
      "source": [
        "# Save current directory for later reference\n",
        "modelroot = !pwd\n",
        "modelroot = modelroot[0]\n",
        "modelroot"
      ],
      "execution_count": null,
      "outputs": []
    },
    {
      "cell_type": "code",
      "metadata": {
        "gather": {
          "logged": 1599082560851
        },
        "tags": [],
        "id": "Ggi7lGAkycG6"
      },
      "source": [
        "# Setup workspace for Azure ML\n",
        "!pip3 install azureml.core\n",
        "\n",
        "import azureml.core\n",
        "from azureml.core import Workspace\n",
        "print(azureml.core.VERSION)"
      ],
      "execution_count": null,
      "outputs": []
    },
    {
      "cell_type": "markdown",
      "metadata": {
        "nteract": {
          "transient": {
            "deleting": false
          }
        },
        "id": "9OrR0JwTycH-"
      },
      "source": [
        "## OpenVINO\n",
        "\n",
        "At this point, you should have a model exported from Tensorflow and it should be providing good bounding boxes on bowls.\n",
        "The rest of this notebook will show you how to convert the model into the format that the EyeSOM dev kit requires,\n",
        "and then how to download it to your device."
      ]
    },
    {
      "cell_type": "code",
      "metadata": {
        "collapsed": true,
        "jupyter": {
          "source_hidden": false,
          "outputs_hidden": false
        },
        "nteract": {
          "transient": {
            "deleting": false
          }
        },
        "tags": [],
        "gather": {
          "logged": 1598986131005
        },
        "id": "gYmoxuZkycH_"
      },
      "source": [
        "from azureml.core.authentication import InteractiveLoginAuthentication\n",
        "interactive_auth = InteractiveLoginAuthentication(tenant_id=\"72f988bf-86f1-41af-91ab-2d7cd011db47\")\n",
        "\n",
        "# If you have an Azure config.json in your workspace, you can use this line\n",
        "ws = Workspace.from_config(auth=interactive_auth)\n",
        "\n",
        "# Otherwise, you can manually fill in your information and use the next lines\n",
        "#ws = Workspace(subscription_id=\"<YOUR SUBSCRIPTION ID>\",\n",
        "#                resource_group=\"<YOUR RESOURCE GROUP>\",\n",
        "#                workspace_name=\"<YOUR WORKSPACE NAME>\",\n",
        "#                auth=interactive_auth)\n",
        "\n",
        "ws.get_details()\n",
        "print(ws)"
      ],
      "execution_count": null,
      "outputs": []
    },
    {
      "cell_type": "code",
      "metadata": {
        "collapsed": true,
        "jupyter": {
          "source_hidden": false,
          "outputs_hidden": false
        },
        "nteract": {
          "transient": {
            "deleting": false
          }
        },
        "gather": {
          "logged": 1598986351563
        },
        "id": "-RIkr1JNycIB"
      },
      "source": [
        "# Reload workspace to register model\r\n",
        "from azureml.core import Workspace\r\n",
        "ws.get_details()"
      ],
      "execution_count": null,
      "outputs": []
    },
    {
      "source": [
        "# Register the trained model. Once registered, you'll find the model in the Models section on the left pane\n",
        "from azureml.core.model import Model\n",
        "\n",
        "trained_model_path = modelroot + '/data/fine_tuned_model/'\n",
        "print(\"Trained model path:\", trained_model_path)\n",
        "\n",
        "model = Model.register(model_path=trained_model_path,\n",
        "                      model_name=\"vehicle_ssdv2lite\",\n",
        "                      tags={\"data\": \"ssd_mobilenetv2lite\", \"model\": \"object_detection\", \"type\": \"ssd_mobilenetv2lite\"},\n",
        "                      description=\"Retrained vehicle detection based on ssd_mobilenetv2lite\",\n",
        "                      workspace=ws)\n",
        "model_name = str(model.name)\n",
        "model_version = str(model.version)\n",
        "print('Name: ' + model_name)\n",
        "print('Version: ' + model_version)"
      ],
      "cell_type": "code",
      "metadata": {
        "collapsed": true,
        "jupyter": {
          "source_hidden": false,
          "outputs_hidden": false
        },
        "nteract": {
          "transient": {
            "deleting": false
          }
        },
        "gather": {
          "logged": 1598986362581
        },
        "id": "Lj2Qxn-RycIC"
      },
      "execution_count": null,
      "outputs": []
    },
    {
      "cell_type": "code",
      "metadata": {
        "collapsed": true,
        "jupyter": {
          "source_hidden": false,
          "outputs_hidden": false
        },
        "nteract": {
          "transient": {
            "deleting": false
          }
        },
        "gather": {
          "logged": 1598978378986
        },
        "id": "-d63Jp9mycIW"
      },
      "source": [
        "# Encrypt the model with Secure AI lifecycle SDK \n",
        "%cd $modelroot/data\n",
        "\n",
        "import sczpy\n",
        "\n",
        "os.environ[\"AZURE_CLIENT_ID\"] = \"adf49b19-baca-4aeb-b7ee-092856693f32\"\n",
        "os.environ[\"AZURE_CLIENT_SECRET\"] = \"c3832e94-787f-4a57-b30e-1a2d999ebd1b\"\n",
        "os.environ[\"AZURE_TENANT_ID\"] = \"72f988bf-86f1-41af-91ab-2d7cd011db47\"\n",
        "server_url = \"https://pe-mm1.westus2.cloudapp.azure.com\"\n",
        "\n",
        "client = sczpy.SCZClient(server_url)\n",
        "client.register_model(model_name, model_version)\n",
        "client.encrypt(model_name, model_version, \"model.zip\", \"model.enc.zip\")\n",
        "os.remove(\"model.zip\")\n",
        "os.rename(\"model.enc.zip\", \"model.zip\")\n",
        "client.upload_model(model_name, model_version, \"model.zip\")"
      ],
      "execution_count": null,
      "outputs": []
    },
    {
      "cell_type": "code",
      "metadata": {
        "collapsed": true,
        "jupyter": {
          "source_hidden": false,
          "outputs_hidden": false
        },
        "nteract": {
          "transient": {
            "deleting": false
          }
        },
        "gather": {
          "logged": 1598986950202
        },
        "id": "hj1KzqDwycIX"
      },
      "source": [
        "#Reload workspace details for module twin update\r\n",
        "from azureml.core import Workspace\r\n",
        "ws.get_details()"
      ],
      "execution_count": null,
      "outputs": []
    },
    {
      "cell_type": "code",
      "metadata": {
        "collapsed": true,
        "jupyter": {
          "source_hidden": false,
          "outputs_hidden": false
        },
        "nteract": {
          "transient": {
            "deleting": false
          }
        },
        "gather": {
          "logged": 1598986960142
        },
        "id": "jku--5pYycIZ"
      },
      "source": [
        "# Get the default datastore\r\n",
        "ds = ws.get_default_datastore()\r\n",
        "print(ds.name, ds.datastore_type, ds.account_name, ds.container_name)"
      ],
      "execution_count": null,
      "outputs": []
    },
    {
      "cell_type": "code",
      "metadata": {
        "collapsed": true,
        "jupyter": {
          "source_hidden": false,
          "outputs_hidden": false
        },
        "nteract": {
          "transient": {
            "deleting": false
          }
        },
        "gather": {
          "logged": 1598978411086
        },
        "id": "JbZfvEz5ycIb"
      },
      "source": [
        "# Set data path for model.zip and upload\r\n",
        "data_path = 'model'\r\n",
        "ds.upload(src_dir='.', target_path=data_path, overwrite=True)"
      ],
      "execution_count": null,
      "outputs": []
    },
    {
      "cell_type": "code",
      "metadata": {
        "id": "_yu2sDVSycIc"
      },
      "source": [
        "!pip3 install azure-storage-blob==2.1.0\n",
        "!pip3 install msrest"
      ],
      "execution_count": null,
      "outputs": []
    },
    {
      "cell_type": "code",
      "metadata": {
        "collapsed": true,
        "jupyter": {
          "source_hidden": false,
          "outputs_hidden": false
        },
        "nteract": {
          "transient": {
            "deleting": false
          }
        },
        "gather": {
          "logged": 1598986973636
        },
        "id": "Z5g5B8wsycIf"
      },
      "source": [
        "# Generate download SAS URL for model.zip\r\n",
        "from datetime import datetime, timedelta\r\n",
        "from azure.storage.blob import (\r\n",
        "    BlockBlobService,\r\n",
        "    ContainerPermissions,\r\n",
        "    BlobPermissions,\r\n",
        "    PublicAccess,\r\n",
        ")\r\n",
        "\r\n",
        "AZURE_ACC_NAME = ds.account_name\r\n",
        "AZURE_PRIMARY_KEY = ds.account_key\r\n",
        "AZURE_CONTAINER = ds.container_name\r\n",
        "AZURE_BLOB=ds.name\r\n",
        "AZURE_File=data_path+'/model.zip'\r\n",
        "\r\n",
        "block_blob_service = BlockBlobService(account_name=AZURE_ACC_NAME, account_key=AZURE_PRIMARY_KEY)\r\n",
        "sas_url = block_blob_service.generate_blob_shared_access_signature(AZURE_CONTAINER,AZURE_File,permission=BlobPermissions.READ,expiry= datetime.utcnow() + timedelta(hours=360))\r\n",
        "downloadurl ='https://'+AZURE_ACC_NAME+'.blob.core.windows.net/'+AZURE_CONTAINER+'/'+AZURE_File+'?'+sas_url\r\n",
        "print('https://'+AZURE_ACC_NAME+'.blob.core.windows.net/'+AZURE_CONTAINER+'/'+AZURE_File+'?'+sas_url)\r\n",
        "print(sas_url)"
      ],
      "execution_count": null,
      "outputs": []
    },
    {
      "cell_type": "code",
      "metadata": {
        "id": "BYwUm8bPycIk"
      },
      "source": [
        "# Perform Module twin update\n",
        "# Incorporate the connection string, device_id and the module_id values from your IoTHub\n",
        "\n",
        "!pip3 install azure-iot-hub\n",
        "print(downloadurl)\n",
        "import sys\n",
        "from azure.iot.hub import IoTHubRegistryManager\n",
        "from azure.iot.hub.models import Twin, TwinProperties\n",
        "\n",
        "# Incorporate Iothub connection string and the default module name\n",
        "# Go to Https://portal.azure.com\n",
        "# Select your IoTHub\n",
        "# Click on Shared access policies\n",
        "# Click service on right\n",
        "# Copy the iothub connection string primary key\n",
        "\n",
        "CONNECTION_STRING = 'HostName=PEBJIotHub.azure-devices.net;SharedAccessKeyName=service;SharedAccessKey=Ifa8KxdX3Qb0Kp9m02la1wVLQ+Cy2vlYpGM46w5tIiQ='\n",
        "DEVICE_ID = 'devkit-0310-2b-1130'\n",
        "MODULE_ID = \"azureeyemodule\"\n",
        "\n",
        "try:\n",
        "    # RegistryManager\n",
        "    iothub_registry_manager = IoTHubRegistryManager(CONNECTION_STRING)\n",
        "\n",
        "    module_twin = iothub_registry_manager.get_module_twin(DEVICE_ID, MODULE_ID)\n",
        "    print ( \"\" )\n",
        "    print ( \"Module twin properties before update    :\" )\n",
        "    print ( \"{0}\".format(module_twin.properties) )\n",
        "\n",
        "    # Update twin\n",
        "    twin_patch = Twin()\n",
        "    # Download model from AML model registry\n",
        "    twin_patch.properties = TwinProperties(desired={\"ModelZipUrl\": downloadurl, \"SecureAILifecycleEnabled\": True, \"SCZ_MODEL_NAME\": model_name, \"SCZ_MODEL_VERSION\": model_version, \"SCZ_MM_SERVER_URL\": server_url, \"DownloadSecuredModelFromMMServer\": False})\n",
        "    # Download model from MM server\n",
        "    #twin_patch.properties = TwinProperties(desired={\"SecureAILifecycleEnabled\": True, \"SCZ_MODEL_NAME\": model_name, \"SCZ_MODEL_VERSION\": model_version, \"SCZ_MM_SERVER_URL\": server_url, \"DownloadSecuredModelFromMMServer\": True})\n",
        "    updated_module_twin = iothub_registry_manager.update_module_twin(\n",
        "        DEVICE_ID, MODULE_ID, twin_patch, module_twin.etag\n",
        "    )\n",
        "    print ( \"\" )\n",
        "    print ( \"Module twin properties after update     :\" )\n",
        "    print ( \"{0}\".format(updated_module_twin.properties) )\n",
        "\n",
        "except Exception as ex:\n",
        "    print ( \"Unexpected error {0}\".format(ex) )\n",
        "except KeyboardInterrupt:\n",
        "    print ( \"IoTHubRegistryManager sample stopped\" )"
      ],
      "execution_count": null,
      "outputs": []
    },
    {
      "cell_type": "code",
      "metadata": {
        "collapsed": true,
        "jupyter": {
          "source_hidden": false,
          "outputs_hidden": false
        },
        "nteract": {
          "transient": {
            "deleting": false
          }
        },
        "id": "bRR2l3MDycIm"
      },
      "source": [
        "# The trained model will get pushed to the IoT Edge device via module twin update method\r\n",
        "# Check model inferencing by connecting monitor to the devkit or by installing VLC media player : \r\n",
        "#Install VLC from https://www.videolan.org/vlc/ and install on “Windows” to check the camera function of “Azure Eye”.\r\n",
        "\r\n",
        "#Check video stream:\r\n",
        "#1.\tSelect Media -> Open Network Stream…\r\n",
        "#2.\tInput the network stream: “rtsp://[ip of PE-101]:8554/result” then click “Play” button.\r\n",
        "#3. or use webstream http://<ipaddressofcamer):3000"
      ],
      "execution_count": null,
      "outputs": []
    },
    {
      "cell_type": "code",
      "execution_count": null,
      "metadata": {},
      "outputs": [],
      "source": [
        "os.remove(\"model.zip\")\r\n",
        "%cd .."
      ]
    }
  ]
}
